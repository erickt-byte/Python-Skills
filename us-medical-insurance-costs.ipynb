{
 "cells": [
  {
   "cell_type": "markdown",
   "metadata": {},
   "source": [
    "# U.S. Medical Insurance Costs"
   ]
  },
  {
   "cell_type": "code",
   "execution_count": 1,
   "metadata": {},
   "outputs": [
    {
     "name": "stdout",
     "output_type": "stream",
     "text": [
      "The total amount of records amounts to 1338\n"
     ]
    }
   ],
   "source": [
    "import csv \n",
    "\n",
    "with open(\"insurance.csv\") as file:\n",
    "    database = csv.DictReader(file)\n",
    "    \n",
    "    #for data in database:\n",
    "    #    print(data)\n",
    "        \n",
    "    patient_counter = 0\n",
    "    for patient in database:\n",
    "        patient_counter += 1\n",
    "    print(\"The total amount of records amounts to \" + str(patient_counter))\n",
    "\n",
    "    \n",
    "    \n",
    "    "
   ]
  },
  {
   "cell_type": "markdown",
   "metadata": {},
   "source": [
    "# Code to store data divided by region in lists and dictionary.\n",
    "Calculation of percentage of people based on region\n"
   ]
  },
  {
   "cell_type": "code",
   "execution_count": 2,
   "metadata": {},
   "outputs": [
    {
     "name": "stdout",
     "output_type": "stream",
     "text": [
      "The percentage of the Southwestern on the total is 24.29%\n",
      "The percentage of the Northwestern on the total is 24.29%\n",
      "The percentage of the Southeastern on the total is 27.2%\n",
      "The percentage of the Northeastern on the total is 24.22%\n"
     ]
    }
   ],
   "source": [
    "with open(\"insurance.csv\") as file:\n",
    "    database = csv.DictReader(file)\n",
    "    \n",
    "    \n",
    "    sw = []\n",
    "    nw = []\n",
    "    se = []\n",
    "    ne = []\n",
    "    \n",
    "    for data in database:\n",
    "        if data['region'] == 'southwest':\n",
    "            sw.append(data)\n",
    "        elif data['region'] == 'northwest':\n",
    "            nw.append(data)\n",
    "        elif data['region'] == 'southeast':\n",
    "            se.append(data)\n",
    "        elif data['region'] == 'northeast':\n",
    "            ne.append(data)\n",
    "    \n",
    "    regions = {\"Southwestern\": sw, \"Northwestern\": nw, \"Southeastern\": se, \"Northeastern\": ne}\n",
    "\n",
    "    for region, region_list in regions.items():\n",
    "        region_percentage = (len(region_list) / patient_counter) * 100\n",
    "        print(f\"The percentage of the {region} on the total is {round(region_percentage, 2)}%\")"
   ]
  },
  {
   "cell_type": "markdown",
   "metadata": {},
   "source": [
    "# Iterating through data to find anomalies Part 1\n",
    "\n",
    "It was found that the Southeastern region had a total insurance cost way higher than in the other regions. With calculations it came up that the cause was the number of the population and the higher count in smokers.\n"
   ]
  },
  {
   "cell_type": "code",
   "execution_count": 3,
   "metadata": {},
   "outputs": [
    {
     "name": "stdout",
     "output_type": "stream",
     "text": [
      "The total charges for Southwestern are: $4012754.65\n",
      "The total charges for Northwestern are: $4035712.0\n",
      "The total charges for Southeastern are: $5363689.76\n",
      "The total charges for Northeastern are: $4343668.58\n",
      "The total cost with every region put together is $17755825.01\n",
      "Out of the 325 in the Southwest, 58 smoke.\n",
      "Out of the 325 in the Northwest, 58 smoke.\n",
      "Out of the 364 in the Southeast, 91 smoke.\n",
      "Out of the 324 in the Northeast, 67 smoke.\n"
     ]
    }
   ],
   "source": [
    "def calculate_total_charges(region):\n",
    "    charges_list = [float(charge['charges']) for charge in region]\n",
    "    total_charges = sum(charges_list)\n",
    "    return round(total_charges, 2)\n",
    "\n",
    "for region_name, region_list in regions.items():\n",
    "    total_charges = calculate_total_charges(region_list)\n",
    "    print(\"The total charges for {} are: ${}\".format(region_name, total_charges))\n",
    "\n",
    "total_cost_regions = 0\n",
    "for region, region_list in regions.items():\n",
    "    for person in region_list:\n",
    "        for data_key, data in person.items():\n",
    "            if data_key == 'charges':\n",
    "                total_cost_regions += round(float(data), 2)\n",
    "print(\"The total cost with every region put together is $\" + str(round(total_cost_regions, 2)))\n",
    "\n",
    "def calculate_smoker(region):\n",
    "    smoker_list = []\n",
    "    region_name = \"\"\n",
    "    for smoker in region:\n",
    "        if smoker['smoker'] == 'yes':\n",
    "            smoker_list.append(smoker)    \n",
    "        if smoker['region'] == \"southwest\":\n",
    "            region_name = \"Southwest\"\n",
    "        elif smoker['region'] == \"northwest\":\n",
    "            region_name = \"Northwest\"\n",
    "        elif smoker['region'] == \"southeast\":\n",
    "            region_name = \"Southeast\"\n",
    "        elif smoker['region'] == \"northeast\":\n",
    "            region_name = \"Northeast\"\n",
    "    num_of_smokers = len(smoker_list)\n",
    "    print (\"Out of the \" + str(len(region)) + \" in the \" + region_name + \", \" + str(num_of_smokers) + \" smoke.\")\n",
    "\n",
    "calculate_smoker(sw)\n",
    "calculate_smoker(nw)\n",
    "calculate_smoker(se)\n",
    "calculate_smoker(ne)"
   ]
  },
  {
   "cell_type": "markdown",
   "metadata": {},
   "source": [
    "# Iterating through data to find anomalies Part 2 \n",
    "What was found was that the norm is that males have a higher average insurance cost compared to females. There was only one exeption to this rule in the Northwestern region. In the next snippet calculations were made to find out why.\n"
   ]
  },
  {
   "cell_type": "code",
   "execution_count": 4,
   "metadata": {},
   "outputs": [
    {
     "name": "stdout",
     "output_type": "stream",
     "text": [
      "The average age is 39.46 in Southwestern\n",
      "The average age is 39.2 in Northwestern\n",
      "The average age is 38.94 in Southeastern\n",
      "The average age is 38.94 in Southeastern\n",
      "The Southeastern insurance cost has 163 males\n",
      "The Northeastern insurance cost has 161 males\n",
      "The Southwestern insurance cost has 189 males\n",
      "The Northwestern insurance cost has 163 males\n",
      "The average insurance cost for male Southwestern is $13412.88 while it is $11274.41 for females\n",
      "The average insurance cost for male Northwestern is $12354.12 while it is $12479.87 for females\n",
      "The average insurance cost for male Southeastern is $15879.62 while it is $13499.67 for females\n",
      "The average insurance cost for male Northeastern is $13854.01 while it is $12953.2 for females\n"
     ]
    }
   ],
   "source": [
    "def average_age_per_region (dictionary, region):\n",
    "    if type(region) is not str:\n",
    "        return \"Input string for region\"\n",
    "    total_age = 0\n",
    "    for reg, list in dictionary.items():\n",
    "        if reg == region:\n",
    "            for person in list:\n",
    "                total_age += int(person['age'])\n",
    "    average_age = total_age / len(dictionary[region])\n",
    "    return \"The average age is \" + str(round(average_age, 2)) + \" in \" + region\n",
    "print(average_age_per_region(regions, \"Southwestern\"))\n",
    "print(average_age_per_region(regions, \"Northwestern\"))\n",
    "print(average_age_per_region(regions, \"Southeastern\"))\n",
    "print(average_age_per_region(regions, \"Southeastern\"))\n",
    "\n",
    "def sex_counter (dictionary, region, sex ):\n",
    "    if type(region) is not str:\n",
    "        return \"Input string for region\"\n",
    "    elif type(sex) is not str:\n",
    "        return \"Input string for sex\"\n",
    "    sexes_counter = 0\n",
    "    for reg, list in dictionary.items():\n",
    "        if reg == region:\n",
    "            for person in list:\n",
    "                for data_key, data in person.items():\n",
    "                    if data == sex:\n",
    "                        sexes_counter += 1\n",
    "    return sexes_counter\n",
    "print(\"The Southeastern insurance cost has \" + str(sex_counter(regions, \"Southwestern\", \"male\")) + \" males\")\n",
    "print(\"The Northeastern insurance cost has \" + str(sex_counter(regions, \"Northwestern\", \"male\")) + \" males\")\n",
    "print(\"The Southwestern insurance cost has \" + str(sex_counter(regions, \"Southeastern\", \"male\")) + \" males\")\n",
    "print(\"The Northwestern insurance cost has \" + str(sex_counter(regions, \"Northeastern\", \"male\")) + \" males\")\n",
    "\n",
    "def average_insurance_male_vs_female (dictionary, region):\n",
    "    if type(region) is not str:\n",
    "        return \"Please provide string for region\"\n",
    "    male_counter = sex_counter(dictionary, region, \"male\")\n",
    "    female_counter = sex_counter(dictionary, region, \"female\")\n",
    "    total_insurance_cost_m = 0\n",
    "    total_insurance_cost_f = 0\n",
    "    \n",
    "    for reg, list in dictionary.items():\n",
    "        if reg == region:\n",
    "            for person in list:\n",
    "                if person['sex'] == \"male\":\n",
    "                    total_insurance_cost_m += float(person['charges'])\n",
    "                elif person['sex'] == \"female\":\n",
    "                    total_insurance_cost_f += float(person['charges'])\n",
    "                    \n",
    "    average_insurance_cost_m = total_insurance_cost_m / male_counter\n",
    "    average_insurance_cost_f = total_insurance_cost_f / female_counter \n",
    "    \n",
    "    return \"The average insurance cost for male \" + region + \" is $\" + str(round(average_insurance_cost_m, 2)) + \" while it is $\" +  str(round(average_insurance_cost_f, 2)) + \" for females\"\n",
    "\n",
    "print(average_insurance_male_vs_female(regions, \"Southwestern\"))\n",
    "print(average_insurance_male_vs_female(regions, \"Northwestern\"))\n",
    "print(average_insurance_male_vs_female(regions, \"Southeastern\"))\n",
    "print(average_insurance_male_vs_female(regions, \"Northeastern\"))\n",
    "\n"
   ]
  },
  {
   "cell_type": "markdown",
   "metadata": {},
   "source": [
    "# Analysis of the Northwestern region to understand the cause of insurance being higher for females\n",
    "Two samples were made one containing only males and another containing only females. The average children per male and per female was considered as element for the difference, as well as the percentage of smokers per sex, the average age per sex, and the average BMI per sex. The results can be found in the cell below"
   ]
  },
  {
   "cell_type": "code",
   "execution_count": 14,
   "metadata": {},
   "outputs": [
    {
     "name": "stdout",
     "output_type": "stream",
     "text": [
      "There are 161 males and 164 females\n",
      "The average insurance cost for male Northwestern is $12354.12 while it is $12479.87 for females\n",
      "Average kids: (1.18, 'Male')\n",
      "Average kids: (1.12, 'Female')\n",
      "Percentage of smokers (18.01, 'Male')\n",
      "Percentage of smokers (17.68, 'Female')\n",
      "The average age: (38.8, 'Male')\n",
      "The average age: (39.59, 'Female')\n",
      "83 females are above the average age of 39.\n",
      "77 males are above the average age of 39.\n",
      "The average BMI: (29.12, 'Male')\n",
      "The average BMI: (29.28, 'Female')\n",
      "79 males are above the average bmi of 29.\n",
      "81 females are above the average bmi of 29.\n"
     ]
    }
   ],
   "source": [
    "nw_males = []\n",
    "nw_fem = []\n",
    "\n",
    "for person in nw:\n",
    "    if person['sex'] == 'male':\n",
    "        nw_males.append(person)\n",
    "    elif person['sex'] == 'female':\n",
    "        nw_fem.append(person)\n",
    "print(\"There are {} males and {} females\".format(len(nw_males), len(nw_fem)))\n",
    "print(average_insurance_male_vs_female(regions, \"Northwestern\"))\n",
    "\n",
    "def avg_kids (lst, sex):\n",
    "    kids_count = 0\n",
    "    for person in lst:\n",
    "        kids_count += int(person['children'])\n",
    "    avrg_kids = kids_count / len(lst)\n",
    "    return round(avrg_kids, 2), sex\n",
    "print (\"Average kids: \" + str(avg_kids(nw_males, \"Male\")))\n",
    "print (\"Average kids: \" + str(avg_kids(nw_fem, \"Female\")))\n",
    "\n",
    "def avg_smokers (lst, sex):\n",
    "    smokers_count = 0 \n",
    "    for person in lst:\n",
    "        if person['smoker'] == 'yes':\n",
    "            smokers_count += 1\n",
    "    avrg_smokers = (smokers_count / len(lst)) * 100\n",
    "    return round(avrg_smokers, 2), sex\n",
    "print(\"Percentage of smokers \" + str(avg_smokers(nw_males, \"Male\")))\n",
    "print(\"Percentage of smokers \" + str(avg_smokers(nw_fem, \"Female\")))\n",
    "\n",
    "def avg_age (lst, sex):\n",
    "    age_count = 0\n",
    "    for person in lst:\n",
    "        age_count += int(person['age'])\n",
    "    avrg_age = age_count / len(lst)\n",
    "    return round(avrg_age, 2), sex\n",
    "print (\"The average age: \" + str(avg_age(nw_males, \"Male\")))\n",
    "print (\"The average age: \" + str(avg_age(nw_fem, \"Female\")))\n",
    "\n",
    "fem_above_avg = 0\n",
    "for female in nw_fem:\n",
    "    if int(female['age']) > 39:\n",
    "        fem_above_avg += 1\n",
    "print(str(fem_above_avg) + \" females are above the average age of 39.\")\n",
    "\n",
    "males_above_avg = 0\n",
    "for male in nw_males:\n",
    "    if int(male['age']) > 39:\n",
    "        males_above_avg += 1\n",
    "print(str(males_above_avg) + \" males are above the average age of 39.\")\n",
    "\n",
    "def avg_bmi (lst, sex):\n",
    "    bmi_count = 0\n",
    "    for person in lst:\n",
    "        bmi_count += float(person['bmi'])\n",
    "    avrg_bmi = bmi_count / len(lst)\n",
    "    return round(avrg_bmi, 2), sex\n",
    "\n",
    "print(\"The average BMI: \" + str(avg_bmi(nw_males, \"Male\")))\n",
    "print(\"The average BMI: \" + str(avg_bmi(nw_fem, \"Female\")))\n",
    "\n",
    "males_above_avg_bmi = 0\n",
    "for male in nw_males:\n",
    "    if float(male['bmi']) > 29:\n",
    "        males_above_avg_bmi += 1\n",
    "print(str(males_above_avg_bmi) + \" males are above the average bmi of 29.\")\n",
    "females_above_avg_bmi = 0\n",
    "for female in nw_fem:\n",
    "    if float(female['bmi']) > 29:\n",
    "        females_above_avg_bmi += 1\n",
    "print(str(females_above_avg_bmi) + \" females are above the average bmi of 29.\")"
   ]
  },
  {
   "cell_type": "markdown",
   "metadata": {},
   "source": [
    "In conclusion, the age, the BMI and the bigger sample size of women are the contributing factors to the average insurance cost being higher for females in the Northwest"
   ]
  }
 ],
 "metadata": {
  "kernelspec": {
   "display_name": "Python 3 (ipykernel)",
   "language": "python",
   "name": "python3"
  },
  "language_info": {
   "codemirror_mode": {
    "name": "ipython",
    "version": 3
   },
   "file_extension": ".py",
   "mimetype": "text/x-python",
   "name": "python",
   "nbconvert_exporter": "python",
   "pygments_lexer": "ipython3",
   "version": "3.9.7"
  }
 },
 "nbformat": 4,
 "nbformat_minor": 4
}
