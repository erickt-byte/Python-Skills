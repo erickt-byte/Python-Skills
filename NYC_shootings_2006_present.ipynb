{
 "cells": [
  {
   "cell_type": "markdown",
   "id": "7fa418ad",
   "metadata": {},
   "source": [
    "# NYC shootings from 2006\n",
    "### This project will go through every shooting registered sinc the year 2006 trying to answer the following questions:\n",
    "### - Which borough has the highest shooting rate?\n",
    "### - At what time of the day do most shootings happen in that borough?\n",
    "### - Which race has the highest frequency as shooting victim? How likely is it that they will be a victim in a random shooting? In which age bracket do they fall in?\n",
    "### - Which race has the highest frequency as shooter perpetuator? \n",
    "\n",
    "# Objective\n",
    "### The main objective is to try to understand whether there might be a shooting issue within a specific ethnic group of people. The data was retrieved from the city of New York official website. This is the link: https://data.cityofnewyork.us/Public-Safety/NYPD-Shooting-Incident-Data-Historic-/833y-fsy8/about_data"
   ]
  },
  {
   "cell_type": "markdown",
   "id": "0b9558b8",
   "metadata": {},
   "source": [
    "# 1. Data cleaning "
   ]
  },
  {
   "cell_type": "code",
   "execution_count": 1,
   "id": "76cc7076",
   "metadata": {
    "scrolled": true
   },
   "outputs": [
    {
     "data": {
      "text/html": [
       "<div>\n",
       "<style scoped>\n",
       "    .dataframe tbody tr th:only-of-type {\n",
       "        vertical-align: middle;\n",
       "    }\n",
       "\n",
       "    .dataframe tbody tr th {\n",
       "        vertical-align: top;\n",
       "    }\n",
       "\n",
       "    .dataframe thead th {\n",
       "        text-align: right;\n",
       "    }\n",
       "</style>\n",
       "<table border=\"1\" class=\"dataframe\">\n",
       "  <thead>\n",
       "    <tr style=\"text-align: right;\">\n",
       "      <th></th>\n",
       "      <th>INCIDENT_KEY</th>\n",
       "      <th>OCCUR_DATE</th>\n",
       "      <th>OCCUR_TIME</th>\n",
       "      <th>BORO</th>\n",
       "      <th>LOC_OF_OCCUR_DESC</th>\n",
       "      <th>PRECINCT</th>\n",
       "      <th>JURISDICTION_CODE</th>\n",
       "      <th>LOC_CLASSFCTN_DESC</th>\n",
       "      <th>LOCATION_DESC</th>\n",
       "      <th>STATISTICAL_MURDER_FLAG</th>\n",
       "      <th>...</th>\n",
       "      <th>PERP_SEX</th>\n",
       "      <th>PERP_RACE</th>\n",
       "      <th>VIC_AGE_GROUP</th>\n",
       "      <th>VIC_SEX</th>\n",
       "      <th>VIC_RACE</th>\n",
       "      <th>X_COORD_CD</th>\n",
       "      <th>Y_COORD_CD</th>\n",
       "      <th>Latitude</th>\n",
       "      <th>Longitude</th>\n",
       "      <th>Lon_Lat</th>\n",
       "    </tr>\n",
       "  </thead>\n",
       "  <tbody>\n",
       "    <tr>\n",
       "      <th>0</th>\n",
       "      <td>228798151</td>\n",
       "      <td>05/27/2021</td>\n",
       "      <td>21:30:00</td>\n",
       "      <td>QUEENS</td>\n",
       "      <td>NaN</td>\n",
       "      <td>105</td>\n",
       "      <td>0.0</td>\n",
       "      <td>NaN</td>\n",
       "      <td>NaN</td>\n",
       "      <td>False</td>\n",
       "      <td>...</td>\n",
       "      <td>NaN</td>\n",
       "      <td>NaN</td>\n",
       "      <td>18-24</td>\n",
       "      <td>M</td>\n",
       "      <td>BLACK</td>\n",
       "      <td>1.058925e+06</td>\n",
       "      <td>180924.000000</td>\n",
       "      <td>40.662965</td>\n",
       "      <td>-73.730839</td>\n",
       "      <td>POINT (-73.73083868899994 40.662964620000025)</td>\n",
       "    </tr>\n",
       "    <tr>\n",
       "      <th>1</th>\n",
       "      <td>137471050</td>\n",
       "      <td>06/27/2014</td>\n",
       "      <td>17:40:00</td>\n",
       "      <td>BRONX</td>\n",
       "      <td>NaN</td>\n",
       "      <td>40</td>\n",
       "      <td>0.0</td>\n",
       "      <td>NaN</td>\n",
       "      <td>NaN</td>\n",
       "      <td>False</td>\n",
       "      <td>...</td>\n",
       "      <td>NaN</td>\n",
       "      <td>NaN</td>\n",
       "      <td>18-24</td>\n",
       "      <td>M</td>\n",
       "      <td>BLACK</td>\n",
       "      <td>1.005028e+06</td>\n",
       "      <td>234516.000000</td>\n",
       "      <td>40.810352</td>\n",
       "      <td>-73.924942</td>\n",
       "      <td>POINT (-73.92494232599995 40.81035186300006)</td>\n",
       "    </tr>\n",
       "    <tr>\n",
       "      <th>2</th>\n",
       "      <td>147998800</td>\n",
       "      <td>11/21/2015</td>\n",
       "      <td>03:56:00</td>\n",
       "      <td>QUEENS</td>\n",
       "      <td>NaN</td>\n",
       "      <td>108</td>\n",
       "      <td>0.0</td>\n",
       "      <td>NaN</td>\n",
       "      <td>NaN</td>\n",
       "      <td>True</td>\n",
       "      <td>...</td>\n",
       "      <td>NaN</td>\n",
       "      <td>NaN</td>\n",
       "      <td>25-44</td>\n",
       "      <td>M</td>\n",
       "      <td>WHITE</td>\n",
       "      <td>1.007668e+06</td>\n",
       "      <td>209836.531250</td>\n",
       "      <td>40.742607</td>\n",
       "      <td>-73.915492</td>\n",
       "      <td>POINT (-73.91549174199997 40.74260663300004)</td>\n",
       "    </tr>\n",
       "    <tr>\n",
       "      <th>3</th>\n",
       "      <td>146837977</td>\n",
       "      <td>10/09/2015</td>\n",
       "      <td>18:30:00</td>\n",
       "      <td>BRONX</td>\n",
       "      <td>NaN</td>\n",
       "      <td>44</td>\n",
       "      <td>0.0</td>\n",
       "      <td>NaN</td>\n",
       "      <td>NaN</td>\n",
       "      <td>False</td>\n",
       "      <td>...</td>\n",
       "      <td>NaN</td>\n",
       "      <td>NaN</td>\n",
       "      <td>&lt;18</td>\n",
       "      <td>M</td>\n",
       "      <td>WHITE HISPANIC</td>\n",
       "      <td>1.006537e+06</td>\n",
       "      <td>244511.140625</td>\n",
       "      <td>40.837782</td>\n",
       "      <td>-73.919457</td>\n",
       "      <td>POINT (-73.91945661499994 40.83778200300003)</td>\n",
       "    </tr>\n",
       "    <tr>\n",
       "      <th>4</th>\n",
       "      <td>58921844</td>\n",
       "      <td>02/19/2009</td>\n",
       "      <td>22:58:00</td>\n",
       "      <td>BRONX</td>\n",
       "      <td>NaN</td>\n",
       "      <td>47</td>\n",
       "      <td>0.0</td>\n",
       "      <td>NaN</td>\n",
       "      <td>NaN</td>\n",
       "      <td>True</td>\n",
       "      <td>...</td>\n",
       "      <td>M</td>\n",
       "      <td>BLACK</td>\n",
       "      <td>45-64</td>\n",
       "      <td>M</td>\n",
       "      <td>BLACK</td>\n",
       "      <td>1.024922e+06</td>\n",
       "      <td>262189.406250</td>\n",
       "      <td>40.886238</td>\n",
       "      <td>-73.852910</td>\n",
       "      <td>POINT (-73.85290950899997 40.88623791800006)</td>\n",
       "    </tr>\n",
       "  </tbody>\n",
       "</table>\n",
       "<p>5 rows × 21 columns</p>\n",
       "</div>"
      ],
      "text/plain": [
       "   INCIDENT_KEY  OCCUR_DATE OCCUR_TIME    BORO LOC_OF_OCCUR_DESC  PRECINCT  \\\n",
       "0     228798151  05/27/2021   21:30:00  QUEENS               NaN       105   \n",
       "1     137471050  06/27/2014   17:40:00   BRONX               NaN        40   \n",
       "2     147998800  11/21/2015   03:56:00  QUEENS               NaN       108   \n",
       "3     146837977  10/09/2015   18:30:00   BRONX               NaN        44   \n",
       "4      58921844  02/19/2009   22:58:00   BRONX               NaN        47   \n",
       "\n",
       "   JURISDICTION_CODE LOC_CLASSFCTN_DESC LOCATION_DESC  \\\n",
       "0                0.0                NaN           NaN   \n",
       "1                0.0                NaN           NaN   \n",
       "2                0.0                NaN           NaN   \n",
       "3                0.0                NaN           NaN   \n",
       "4                0.0                NaN           NaN   \n",
       "\n",
       "   STATISTICAL_MURDER_FLAG  ... PERP_SEX PERP_RACE VIC_AGE_GROUP VIC_SEX  \\\n",
       "0                    False  ...      NaN       NaN         18-24       M   \n",
       "1                    False  ...      NaN       NaN         18-24       M   \n",
       "2                     True  ...      NaN       NaN         25-44       M   \n",
       "3                    False  ...      NaN       NaN           <18       M   \n",
       "4                     True  ...        M     BLACK         45-64       M   \n",
       "\n",
       "         VIC_RACE    X_COORD_CD     Y_COORD_CD   Latitude  Longitude  \\\n",
       "0           BLACK  1.058925e+06  180924.000000  40.662965 -73.730839   \n",
       "1           BLACK  1.005028e+06  234516.000000  40.810352 -73.924942   \n",
       "2           WHITE  1.007668e+06  209836.531250  40.742607 -73.915492   \n",
       "3  WHITE HISPANIC  1.006537e+06  244511.140625  40.837782 -73.919457   \n",
       "4           BLACK  1.024922e+06  262189.406250  40.886238 -73.852910   \n",
       "\n",
       "                                         Lon_Lat  \n",
       "0  POINT (-73.73083868899994 40.662964620000025)  \n",
       "1   POINT (-73.92494232599995 40.81035186300006)  \n",
       "2   POINT (-73.91549174199997 40.74260663300004)  \n",
       "3   POINT (-73.91945661499994 40.83778200300003)  \n",
       "4   POINT (-73.85290950899997 40.88623791800006)  \n",
       "\n",
       "[5 rows x 21 columns]"
      ]
     },
     "execution_count": 1,
     "metadata": {},
     "output_type": "execute_result"
    }
   ],
   "source": [
    "import pandas as pd \n",
    "import numpy as np\n",
    "import matplotlib.pyplot as plt \n",
    "import seaborn as sns\n",
    "\n",
    "crime_data = pd.read_csv('NYPD_Shooting_Incident_Data__Historic__20240121.csv')\n",
    "crime_data.head(5)"
   ]
  },
  {
   "cell_type": "code",
   "execution_count": 2,
   "id": "c44cd4b3",
   "metadata": {},
   "outputs": [
    {
     "data": {
      "text/html": [
       "<div>\n",
       "<style scoped>\n",
       "    .dataframe tbody tr th:only-of-type {\n",
       "        vertical-align: middle;\n",
       "    }\n",
       "\n",
       "    .dataframe tbody tr th {\n",
       "        vertical-align: top;\n",
       "    }\n",
       "\n",
       "    .dataframe thead th {\n",
       "        text-align: right;\n",
       "    }\n",
       "</style>\n",
       "<table border=\"1\" class=\"dataframe\">\n",
       "  <thead>\n",
       "    <tr style=\"text-align: right;\">\n",
       "      <th></th>\n",
       "      <th>OCCUR_DATE</th>\n",
       "      <th>OCCUR_TIME</th>\n",
       "      <th>BORO</th>\n",
       "      <th>STATISTICAL_MURDER_FLAG</th>\n",
       "      <th>VIC_AGE_GROUP</th>\n",
       "      <th>VIC_SEX</th>\n",
       "      <th>VIC_RACE</th>\n",
       "    </tr>\n",
       "  </thead>\n",
       "  <tbody>\n",
       "    <tr>\n",
       "      <th>0</th>\n",
       "      <td>05/27/2021</td>\n",
       "      <td>21:30:00</td>\n",
       "      <td>QUEENS</td>\n",
       "      <td>False</td>\n",
       "      <td>18-24</td>\n",
       "      <td>M</td>\n",
       "      <td>BLACK</td>\n",
       "    </tr>\n",
       "    <tr>\n",
       "      <th>1</th>\n",
       "      <td>06/27/2014</td>\n",
       "      <td>17:40:00</td>\n",
       "      <td>BRONX</td>\n",
       "      <td>False</td>\n",
       "      <td>18-24</td>\n",
       "      <td>M</td>\n",
       "      <td>BLACK</td>\n",
       "    </tr>\n",
       "    <tr>\n",
       "      <th>2</th>\n",
       "      <td>11/21/2015</td>\n",
       "      <td>03:56:00</td>\n",
       "      <td>QUEENS</td>\n",
       "      <td>True</td>\n",
       "      <td>25-44</td>\n",
       "      <td>M</td>\n",
       "      <td>WHITE</td>\n",
       "    </tr>\n",
       "    <tr>\n",
       "      <th>3</th>\n",
       "      <td>10/09/2015</td>\n",
       "      <td>18:30:00</td>\n",
       "      <td>BRONX</td>\n",
       "      <td>False</td>\n",
       "      <td>&lt;18</td>\n",
       "      <td>M</td>\n",
       "      <td>WHITE HISPANIC</td>\n",
       "    </tr>\n",
       "    <tr>\n",
       "      <th>4</th>\n",
       "      <td>02/19/2009</td>\n",
       "      <td>22:58:00</td>\n",
       "      <td>BRONX</td>\n",
       "      <td>True</td>\n",
       "      <td>45-64</td>\n",
       "      <td>M</td>\n",
       "      <td>BLACK</td>\n",
       "    </tr>\n",
       "  </tbody>\n",
       "</table>\n",
       "</div>"
      ],
      "text/plain": [
       "   OCCUR_DATE OCCUR_TIME    BORO  STATISTICAL_MURDER_FLAG VIC_AGE_GROUP  \\\n",
       "0  05/27/2021   21:30:00  QUEENS                    False         18-24   \n",
       "1  06/27/2014   17:40:00   BRONX                    False         18-24   \n",
       "2  11/21/2015   03:56:00  QUEENS                     True         25-44   \n",
       "3  10/09/2015   18:30:00   BRONX                    False           <18   \n",
       "4  02/19/2009   22:58:00   BRONX                     True         45-64   \n",
       "\n",
       "  VIC_SEX        VIC_RACE  \n",
       "0       M           BLACK  \n",
       "1       M           BLACK  \n",
       "2       M           WHITE  \n",
       "3       M  WHITE HISPANIC  \n",
       "4       M           BLACK  "
      ]
     },
     "execution_count": 2,
     "metadata": {},
     "output_type": "execute_result"
    }
   ],
   "source": [
    "columns_to_exclude = ['INCIDENT_KEY', 'LOC_OF_OCCUR_DESC', 'PRECINCT', 'JURISDICTION_CODE', 'LOC_CLASSFCTN_DESC', 'LOCATION_DESC', 'PERP_AGE_GROUP', 'PERP_SEX', 'PERP_RACE', 'X_COORD_CD', 'Y_COORD_CD', 'Latitude', 'Longitude', 'Lon_Lat']\n",
    "crime_data_new = crime_data.drop(columns = columns_to_exclude, axis = 1)\n",
    "crime_data_new.head(5)"
   ]
  },
  {
   "cell_type": "markdown",
   "id": "cf9bc315",
   "metadata": {},
   "source": [
    "# 2. Which borough has the highest shooting rate?"
   ]
  },
  {
   "cell_type": "code",
   "execution_count": 3,
   "id": "73d9db7f",
   "metadata": {
    "scrolled": true
   },
   "outputs": [
    {
     "data": {
      "text/plain": [
       "BORO\n",
       "BROOKLYN         10933\n",
       "BRONX             7937\n",
       "QUEENS            4094\n",
       "MANHATTAN         3572\n",
       "STATEN ISLAND      776\n",
       "Name: count, dtype: int64"
      ]
     },
     "execution_count": 3,
     "metadata": {},
     "output_type": "execute_result"
    }
   ],
   "source": [
    "crime_data_new.BORO.value_counts()"
   ]
  },
  {
   "cell_type": "markdown",
   "id": "6b89cb0b",
   "metadata": {},
   "source": [
    "### Since 2006 Brooklyn has the highest shooting rate with 10'933 shootings."
   ]
  },
  {
   "cell_type": "markdown",
   "id": "5681111b",
   "metadata": {},
   "source": [
    "# 3. At what time of the day do most of the shootings happen in Brooklyn?"
   ]
  },
  {
   "cell_type": "code",
   "execution_count": 4,
   "id": "991522ea",
   "metadata": {},
   "outputs": [
    {
     "data": {
      "text/html": [
       "<div>\n",
       "<style scoped>\n",
       "    .dataframe tbody tr th:only-of-type {\n",
       "        vertical-align: middle;\n",
       "    }\n",
       "\n",
       "    .dataframe tbody tr th {\n",
       "        vertical-align: top;\n",
       "    }\n",
       "\n",
       "    .dataframe thead th {\n",
       "        text-align: right;\n",
       "    }\n",
       "</style>\n",
       "<table border=\"1\" class=\"dataframe\">\n",
       "  <thead>\n",
       "    <tr style=\"text-align: right;\">\n",
       "      <th></th>\n",
       "      <th>OCCUR_DATE</th>\n",
       "      <th>OCCUR_TIME</th>\n",
       "      <th>BORO</th>\n",
       "      <th>STATISTICAL_MURDER_FLAG</th>\n",
       "      <th>VIC_AGE_GROUP</th>\n",
       "      <th>VIC_SEX</th>\n",
       "      <th>VIC_RACE</th>\n",
       "    </tr>\n",
       "  </thead>\n",
       "  <tbody>\n",
       "    <tr>\n",
       "      <th>0</th>\n",
       "      <td>10/21/2020</td>\n",
       "      <td>21:36:00</td>\n",
       "      <td>BROOKLYN</td>\n",
       "      <td>True</td>\n",
       "      <td>25-44</td>\n",
       "      <td>M</td>\n",
       "      <td>BLACK</td>\n",
       "    </tr>\n",
       "    <tr>\n",
       "      <th>1</th>\n",
       "      <td>03/08/2010</td>\n",
       "      <td>19:41:00</td>\n",
       "      <td>BROOKLYN</td>\n",
       "      <td>True</td>\n",
       "      <td>18-24</td>\n",
       "      <td>M</td>\n",
       "      <td>BLACK</td>\n",
       "    </tr>\n",
       "    <tr>\n",
       "      <th>2</th>\n",
       "      <td>08/29/2010</td>\n",
       "      <td>01:27:00</td>\n",
       "      <td>BROOKLYN</td>\n",
       "      <td>False</td>\n",
       "      <td>25-44</td>\n",
       "      <td>M</td>\n",
       "      <td>BLACK</td>\n",
       "    </tr>\n",
       "    <tr>\n",
       "      <th>3</th>\n",
       "      <td>10/09/2021</td>\n",
       "      <td>20:17:00</td>\n",
       "      <td>BROOKLYN</td>\n",
       "      <td>False</td>\n",
       "      <td>25-44</td>\n",
       "      <td>M</td>\n",
       "      <td>BLACK</td>\n",
       "    </tr>\n",
       "    <tr>\n",
       "      <th>4</th>\n",
       "      <td>11/09/2008</td>\n",
       "      <td>20:13:00</td>\n",
       "      <td>BROOKLYN</td>\n",
       "      <td>False</td>\n",
       "      <td>25-44</td>\n",
       "      <td>M</td>\n",
       "      <td>BLACK HISPANIC</td>\n",
       "    </tr>\n",
       "  </tbody>\n",
       "</table>\n",
       "</div>"
      ],
      "text/plain": [
       "   OCCUR_DATE OCCUR_TIME      BORO  STATISTICAL_MURDER_FLAG VIC_AGE_GROUP  \\\n",
       "0  10/21/2020   21:36:00  BROOKLYN                     True         25-44   \n",
       "1  03/08/2010   19:41:00  BROOKLYN                     True         18-24   \n",
       "2  08/29/2010   01:27:00  BROOKLYN                    False         25-44   \n",
       "3  10/09/2021   20:17:00  BROOKLYN                    False         25-44   \n",
       "4  11/09/2008   20:13:00  BROOKLYN                    False         25-44   \n",
       "\n",
       "  VIC_SEX        VIC_RACE  \n",
       "0       M           BLACK  \n",
       "1       M           BLACK  \n",
       "2       M           BLACK  \n",
       "3       M           BLACK  \n",
       "4       M  BLACK HISPANIC  "
      ]
     },
     "execution_count": 4,
     "metadata": {},
     "output_type": "execute_result"
    }
   ],
   "source": [
    "brook_crime = crime_data_new[crime_data_new.BORO == 'BROOKLYN'].reset_index(drop=True)\n",
    "brook_crime.head(5)"
   ]
  },
  {
   "cell_type": "code",
   "execution_count": 5,
   "id": "65bde897",
   "metadata": {},
   "outputs": [],
   "source": [
    "brook_crime.OCCUR_TIME = brook_crime.OCCUR_TIME.apply(lambda x: x[:2])\n",
    "brook_crime.OCCUR_TIME = brook_crime.OCCUR_TIME.astype(int)"
   ]
  },
  {
   "cell_type": "code",
   "execution_count": 6,
   "id": "29a5a168",
   "metadata": {},
   "outputs": [
    {
     "data": {
      "text/plain": [
       "10933"
      ]
     },
     "execution_count": 6,
     "metadata": {},
     "output_type": "execute_result"
    }
   ],
   "source": [
    "brook_crime.rename(columns={'OCCUR_DATE': 'date', 'OCCUR_TIME': 'time', 'BORO': 'boro', 'STATISTICAL_MURDER_FLAG': 'murder', 'VIC_AGE_GROUP': 'age_group', 'VIC_SEX': 'sex', 'VIC_RACE': 'race'}, inplace=True)\n",
    "brook_crime.dtypes\n",
    "brook_crime.head()\n",
    "len(brook_crime)"
   ]
  },
  {
   "cell_type": "code",
   "execution_count": 7,
   "id": "3ff5359b",
   "metadata": {},
   "outputs": [
    {
     "data": {
      "image/png": "[encoded data removed]",
      "text/plain": [
       "<Figure size 1000x600 with 1 Axes>"
      ]
     },
     "metadata": {},
     "output_type": "display_data"
    },
    {
     "data": {
      "text/plain": [
       "<Figure size 640x480 with 0 Axes>"
      ]
     },
     "metadata": {},
     "output_type": "display_data"
    }
   ],
   "source": [
    "hours = [x for x in range(25)]\n",
    "\n",
    "plt.figure(figsize=(10, 6))  # Adjust the figure size as needed\n",
    "plt.hist(brook_crime['time'], bins=24, color='skyblue', edgecolor='black')  # Adjust bins and colors\n",
    "\n",
    "# Add labels and title\n",
    "plt.title('Distribution of Shootings over Daytime in Brooklyn')\n",
    "plt.xlabel('Time')\n",
    "plt.ylabel('Frequency')\n",
    "plt.xticks(range(len((hours))), hours)\n",
    "\n",
    "# Add grid for better readability (optional)\n",
    "plt.grid(axis='y', linestyle='--', alpha=0.7)\n",
    "\n",
    "# Show the plot\n",
    "plt.show()\n",
    "plt.clf()"
   ]
  },
  {
   "cell_type": "markdown",
   "id": "dd01b087",
   "metadata": {},
   "source": [
    "### Most of the shootings in Brooklyn happen throughout the night between 8PM and 4AM."
   ]
  },
  {
   "cell_type": "markdown",
   "id": "b7e64534",
   "metadata": {},
   "source": [
    "# 4. Which race has the highest frequency as shooting victim? How likely is it that they will be a victim in a random shooting? In which age bracket do they fall in?"
   ]
  },
  {
   "cell_type": "code",
   "execution_count": 8,
   "id": "dd33ad58",
   "metadata": {},
   "outputs": [
    {
     "name": "stdout",
     "output_type": "stream",
     "text": [
      "murder                           False   True \n",
      "race                                          \n",
      "AMERICAN INDIAN/ALASKAN NATIVE     3.0     NaN\n",
      "ASIAN / PACIFIC ISLANDER         104.0    34.0\n",
      "BLACK                           7361.0  1730.0\n",
      "BLACK HISPANIC                   458.0   107.0\n",
      "UNKNOWN                           22.0     2.0\n",
      "WHITE                            180.0    72.0\n",
      "WHITE HISPANIC                   683.0   177.0\n"
     ]
    }
   ],
   "source": [
    "result = brook_crime.groupby(['race', 'murder']).size().reset_index(name='count')\n",
    "result = result.sort_values(by='murder')\n",
    "pivot_result = result.pivot(index='race', columns='murder', values='count')\n",
    "print(pivot_result)\n"
   ]
  },
  {
   "cell_type": "code",
   "execution_count": 9,
   "id": "4b4f586a",
   "metadata": {},
   "outputs": [],
   "source": [
    "brook_murder = brook_crime[brook_crime.murder == True].reset_index(drop=True)"
   ]
  },
  {
   "cell_type": "code",
   "execution_count": 10,
   "id": "224940ad",
   "metadata": {},
   "outputs": [
    {
     "data": {
      "text/plain": [
       "race\n",
       "BLACK                       0.815269\n",
       "WHITE HISPANIC              0.083412\n",
       "BLACK HISPANIC              0.050424\n",
       "WHITE                       0.033930\n",
       "ASIAN / PACIFIC ISLANDER    0.016023\n",
       "UNKNOWN                     0.000943\n",
       "Name: proportion, dtype: float64"
      ]
     },
     "execution_count": 10,
     "metadata": {},
     "output_type": "execute_result"
    }
   ],
   "source": [
    "brook_murder.race.value_counts(normalize=True)"
   ]
  },
  {
   "cell_type": "code",
   "execution_count": 11,
   "id": "dc192c19",
   "metadata": {},
   "outputs": [
    {
     "data": {
      "text/plain": [
       "Text(0.5, 1.0, 'Murdered by shootings per race')"
      ]
     },
     "execution_count": 11,
     "metadata": {},
     "output_type": "execute_result"
    },
    {
     "data": {
      "image/png": "[encoded data removed]",
      "text/plain": [
       "<Figure size 640x480 with 1 Axes>"
      ]
     },
     "metadata": {},
     "output_type": "display_data"
    }
   ],
   "source": [
    "values = [0.82, 0.08, 0.05, 0.03, 0.02]\n",
    "labels = ['Black', 'White Hispanic', 'Black Hispanic', 'White', 'Asian/Pacific Islander']\n",
    "explode = (0.1, 0, 0, 0, 0)\n",
    "\n",
    "custom_colors = ['skyblue', 'red', 'lightgreen', 'orange', 'yellow']\n",
    "\n",
    "plt.pie(values, labels = labels, autopct = '%1.0f%%', explode = explode, shadow = True, textprops=dict(color=\"black\"), colors = custom_colors, wedgeprops=dict(width=0.3, edgecolor='black'))\n",
    "plt.legend(loc=\"upper left\", bbox_to_anchor=(1, 0, 0.5, 1))\n",
    "plt.title('Murdered by shootings per race')"
   ]
  },
  {
   "cell_type": "markdown",
   "id": "e584437a",
   "metadata": {},
   "source": [
    "### 82% of shooting victims are black."
   ]
  },
  {
   "cell_type": "code",
   "execution_count": 12,
   "id": "b4c3052a",
   "metadata": {},
   "outputs": [
    {
     "data": {
      "text/html": [
       "<div>\n",
       "<style scoped>\n",
       "    .dataframe tbody tr th:only-of-type {\n",
       "        vertical-align: middle;\n",
       "    }\n",
       "\n",
       "    .dataframe tbody tr th {\n",
       "        vertical-align: top;\n",
       "    }\n",
       "\n",
       "    .dataframe thead th {\n",
       "        text-align: right;\n",
       "    }\n",
       "</style>\n",
       "<table border=\"1\" class=\"dataframe\">\n",
       "  <thead>\n",
       "    <tr style=\"text-align: right;\">\n",
       "      <th></th>\n",
       "      <th>date</th>\n",
       "      <th>time</th>\n",
       "      <th>boro</th>\n",
       "      <th>murder</th>\n",
       "      <th>age_group</th>\n",
       "      <th>sex</th>\n",
       "      <th>race</th>\n",
       "    </tr>\n",
       "  </thead>\n",
       "  <tbody>\n",
       "    <tr>\n",
       "      <th>0</th>\n",
       "      <td>10/21/2020</td>\n",
       "      <td>21</td>\n",
       "      <td>BROOKLYN</td>\n",
       "      <td>True</td>\n",
       "      <td>25-44</td>\n",
       "      <td>M</td>\n",
       "      <td>BLACK</td>\n",
       "    </tr>\n",
       "    <tr>\n",
       "      <th>1</th>\n",
       "      <td>03/08/2010</td>\n",
       "      <td>19</td>\n",
       "      <td>BROOKLYN</td>\n",
       "      <td>True</td>\n",
       "      <td>18-24</td>\n",
       "      <td>M</td>\n",
       "      <td>BLACK</td>\n",
       "    </tr>\n",
       "    <tr>\n",
       "      <th>2</th>\n",
       "      <td>07/26/2009</td>\n",
       "      <td>3</td>\n",
       "      <td>BROOKLYN</td>\n",
       "      <td>True</td>\n",
       "      <td>18-24</td>\n",
       "      <td>M</td>\n",
       "      <td>BLACK</td>\n",
       "    </tr>\n",
       "    <tr>\n",
       "      <th>3</th>\n",
       "      <td>10/31/2021</td>\n",
       "      <td>14</td>\n",
       "      <td>BROOKLYN</td>\n",
       "      <td>True</td>\n",
       "      <td>18-24</td>\n",
       "      <td>M</td>\n",
       "      <td>BLACK</td>\n",
       "    </tr>\n",
       "    <tr>\n",
       "      <th>4</th>\n",
       "      <td>06/05/2016</td>\n",
       "      <td>0</td>\n",
       "      <td>BROOKLYN</td>\n",
       "      <td>True</td>\n",
       "      <td>25-44</td>\n",
       "      <td>M</td>\n",
       "      <td>BLACK</td>\n",
       "    </tr>\n",
       "  </tbody>\n",
       "</table>\n",
       "</div>"
      ],
      "text/plain": [
       "         date  time      boro  murder age_group sex   race\n",
       "0  10/21/2020    21  BROOKLYN    True     25-44   M  BLACK\n",
       "1  03/08/2010    19  BROOKLYN    True     18-24   M  BLACK\n",
       "2  07/26/2009     3  BROOKLYN    True     18-24   M  BLACK\n",
       "3  10/31/2021    14  BROOKLYN    True     18-24   M  BLACK\n",
       "4  06/05/2016     0  BROOKLYN    True     25-44   M  BLACK"
      ]
     },
     "execution_count": 12,
     "metadata": {},
     "output_type": "execute_result"
    }
   ],
   "source": [
    "brook_murder.head()"
   ]
  },
  {
   "cell_type": "code",
   "execution_count": 13,
   "id": "d938daef",
   "metadata": {},
   "outputs": [
    {
     "data": {
      "text/plain": [
       "array(['25-44', '18-24', '<18', '45-64', '65+', 'UNKNOWN'], dtype=object)"
      ]
     },
     "execution_count": 13,
     "metadata": {},
     "output_type": "execute_result"
    }
   ],
   "source": [
    "age_murder_values = brook_murder.age_group.value_counts()\n",
    "brook_murder.age_group.unique()"
   ]
  },
  {
   "cell_type": "code",
   "execution_count": 14,
   "id": "ce8adac2",
   "metadata": {},
   "outputs": [
    {
     "name": "stdout",
     "output_type": "stream",
     "text": [
      "The median age of murdered people is 25-44\n",
      "187\n"
     ]
    }
   ],
   "source": [
    "categories = ['<18', '18-24', '25-44', '45-64', '65+', 'UNKNOWN']\n",
    "\n",
    "brook_murder.age_group = pd.Categorical(brook_murder.age_group, categories, ordered = True)\n",
    "\n",
    "cat_age_murder = brook_murder.age_group.cat.codes\n",
    "median_age_murder = np.median(cat_age_murder)\n",
    "print('The median age of murdered people is {}'.format(categories[int(median_age_murder)]))\n",
    "print(age_murder_values.iloc[2])"
   ]
  },
  {
   "cell_type": "markdown",
   "id": "95a32a7d",
   "metadata": {},
   "source": [
    "### The median age of shooting victims is in the bracket of 25-44 years of age."
   ]
  },
  {
   "cell_type": "code",
   "execution_count": 15,
   "id": "0a3d334b",
   "metadata": {},
   "outputs": [
    {
     "name": "stdout",
     "output_type": "stream",
     "text": [
      "Probability of the next shooting victim being black: 84.00%\n"
     ]
    }
   ],
   "source": [
    "# Probability of a crime being committed by a cat\n",
    "prob_murder_black = 0.82\n",
    "\n",
    "# Number of experiments\n",
    "num_experiments = 1000\n",
    "\n",
    "# Simulate the experiments\n",
    "murder_occurred_by_black = np.random.choice([1, 0], size=num_experiments, p=[prob_murder_black, 1 - prob_murder_black])\n",
    "\n",
    "# Calculate the proportion of crimes committed by cats\n",
    "proportion_black_murder = np.mean(murder_occurred_by_black)\n",
    "\n",
    "print(f\"Probability of the next shooting victim being black: {proportion_black_murder:.2%}\")\n"
   ]
  },
  {
   "cell_type": "markdown",
   "id": "a2dde9b3",
   "metadata": {},
   "source": [
    "### In an experiment carried out 1000 times, out of the 1000 shootings 84% of them had a black person as a victim."
   ]
  },
  {
   "cell_type": "code",
   "execution_count": 16,
   "id": "d5948361",
   "metadata": {},
   "outputs": [
    {
     "data": {
      "text/plain": [
       "sex\n",
       "M    1919\n",
       "F     203\n",
       "Name: count, dtype: int64"
      ]
     },
     "execution_count": 16,
     "metadata": {},
     "output_type": "execute_result"
    }
   ],
   "source": [
    "brook_murder.sex.value_counts()"
   ]
  },
  {
   "cell_type": "markdown",
   "id": "9786a0d6",
   "metadata": {},
   "source": [
    "# 5. Which race has the highest frequency as shooter perpetuator?"
   ]
  },
  {
   "cell_type": "code",
   "execution_count": 17,
   "id": "d0f7d752",
   "metadata": {},
   "outputs": [
    {
     "data": {
      "text/html": [
       "<div>\n",
       "<style scoped>\n",
       "    .dataframe tbody tr th:only-of-type {\n",
       "        vertical-align: middle;\n",
       "    }\n",
       "\n",
       "    .dataframe tbody tr th {\n",
       "        vertical-align: top;\n",
       "    }\n",
       "\n",
       "    .dataframe thead th {\n",
       "        text-align: right;\n",
       "    }\n",
       "</style>\n",
       "<table border=\"1\" class=\"dataframe\">\n",
       "  <thead>\n",
       "    <tr style=\"text-align: right;\">\n",
       "      <th></th>\n",
       "      <th>OCCUR_DATE</th>\n",
       "      <th>OCCUR_TIME</th>\n",
       "      <th>BORO</th>\n",
       "      <th>STATISTICAL_MURDER_FLAG</th>\n",
       "      <th>PERP_AGE_GROUP</th>\n",
       "      <th>PERP_SEX</th>\n",
       "      <th>PERP_RACE</th>\n",
       "    </tr>\n",
       "  </thead>\n",
       "  <tbody>\n",
       "    <tr>\n",
       "      <th>0</th>\n",
       "      <td>05/27/2021</td>\n",
       "      <td>21:30:00</td>\n",
       "      <td>QUEENS</td>\n",
       "      <td>False</td>\n",
       "      <td>NaN</td>\n",
       "      <td>NaN</td>\n",
       "      <td>NaN</td>\n",
       "    </tr>\n",
       "    <tr>\n",
       "      <th>1</th>\n",
       "      <td>06/27/2014</td>\n",
       "      <td>17:40:00</td>\n",
       "      <td>BRONX</td>\n",
       "      <td>False</td>\n",
       "      <td>NaN</td>\n",
       "      <td>NaN</td>\n",
       "      <td>NaN</td>\n",
       "    </tr>\n",
       "    <tr>\n",
       "      <th>2</th>\n",
       "      <td>11/21/2015</td>\n",
       "      <td>03:56:00</td>\n",
       "      <td>QUEENS</td>\n",
       "      <td>True</td>\n",
       "      <td>NaN</td>\n",
       "      <td>NaN</td>\n",
       "      <td>NaN</td>\n",
       "    </tr>\n",
       "    <tr>\n",
       "      <th>3</th>\n",
       "      <td>10/09/2015</td>\n",
       "      <td>18:30:00</td>\n",
       "      <td>BRONX</td>\n",
       "      <td>False</td>\n",
       "      <td>NaN</td>\n",
       "      <td>NaN</td>\n",
       "      <td>NaN</td>\n",
       "    </tr>\n",
       "    <tr>\n",
       "      <th>4</th>\n",
       "      <td>02/19/2009</td>\n",
       "      <td>22:58:00</td>\n",
       "      <td>BRONX</td>\n",
       "      <td>True</td>\n",
       "      <td>25-44</td>\n",
       "      <td>M</td>\n",
       "      <td>BLACK</td>\n",
       "    </tr>\n",
       "  </tbody>\n",
       "</table>\n",
       "</div>"
      ],
      "text/plain": [
       "   OCCUR_DATE OCCUR_TIME    BORO  STATISTICAL_MURDER_FLAG PERP_AGE_GROUP  \\\n",
       "0  05/27/2021   21:30:00  QUEENS                    False            NaN   \n",
       "1  06/27/2014   17:40:00   BRONX                    False            NaN   \n",
       "2  11/21/2015   03:56:00  QUEENS                     True            NaN   \n",
       "3  10/09/2015   18:30:00   BRONX                    False            NaN   \n",
       "4  02/19/2009   22:58:00   BRONX                     True          25-44   \n",
       "\n",
       "  PERP_SEX PERP_RACE  \n",
       "0      NaN       NaN  \n",
       "1      NaN       NaN  \n",
       "2      NaN       NaN  \n",
       "3      NaN       NaN  \n",
       "4        M     BLACK  "
      ]
     },
     "execution_count": 17,
     "metadata": {},
     "output_type": "execute_result"
    }
   ],
   "source": [
    "delete = ['INCIDENT_KEY', 'LOC_OF_OCCUR_DESC', 'PRECINCT', 'JURISDICTION_CODE', 'LOC_CLASSFCTN_DESC', 'LOCATION_DESC', 'VIC_SEX', 'VIC_RACE', 'VIC_AGE_GROUP', 'X_COORD_CD', 'Y_COORD_CD', 'Latitude', 'Longitude', 'Lon_Lat']\n",
    "crime_data2 = crime_data.drop(columns = delete, axis = 1)\n",
    "crime_data2.head()"
   ]
  },
  {
   "cell_type": "code",
   "execution_count": 18,
   "id": "5ac33704",
   "metadata": {},
   "outputs": [
    {
     "data": {
      "text/plain": [
       "race\n",
       "BLACK                       0.723692\n",
       "UNKNOWN                     0.155141\n",
       "WHITE HISPANIC              0.063440\n",
       "BLACK HISPANIC              0.039537\n",
       "WHITE                       0.012327\n",
       "ASIAN / PACIFIC ISLANDER    0.005863\n",
       "Name: proportion, dtype: float64"
      ]
     },
     "execution_count": 18,
     "metadata": {},
     "output_type": "execute_result"
    }
   ],
   "source": [
    "brook_shooter = crime_data2[crime_data2.BORO == 'BROOKLYN'].reset_index(drop=True)\n",
    "brook_shooter.rename(columns={'OCCUR_DATE': 'date', 'OCCUR_TIME': 'time', 'BORO': 'boro', 'STATISTICAL_MURDER_FLAG': 'murder', 'PERP_AGE_GROUP': 'age', 'PERP_SEX': 'sex', 'PERP_RACE': 'race'}, inplace =True)\n",
    "brook_shooter.race = brook_shooter.race.replace({'(null)': 'UNKNOWN'})\n",
    "brook_shooter.dropna(subset=['race'], inplace =True)\n",
    "brook_shooter.race = brook_shooter.race.fillna('UNKNOWN')\n",
    "brook_shooter.race.value_counts(normalize=True)"
   ]
  },
  {
   "cell_type": "code",
   "execution_count": 19,
   "id": "e9eb331c",
   "metadata": {},
   "outputs": [
    {
     "data": {
      "text/plain": [
       "<matplotlib.legend.Legend at 0x2d6382ee410>"
      ]
     },
     "execution_count": 19,
     "metadata": {},
     "output_type": "execute_result"
    },
    {
     "data": {
      "image/png": "[encoded data removed]",
      "text/plain": [
       "<Figure size 640x480 with 1 Axes>"
      ]
     },
     "metadata": {},
     "output_type": "display_data"
    }
   ],
   "source": [
    "labels = ['BLACK', 'UNKNOWN', 'WHITE HISPANIC', 'BLACK HISPANIC', 'WHITE']\n",
    "prop = [0.72, 0.16, 0.06, 0.04, 0.01]\n",
    "\n",
    "explode = (0.1, 0, 0, 0, 0)\n",
    "sns.set(style=\"whitegrid\")\n",
    "\n",
    "# Define the green-yellow color palette\n",
    "green_yellow_palette = sns.color_palette(\"YlGnBu\")\n",
    "\n",
    "plt.pie(prop, explode = explode, colors = green_yellow_palette, shadow = True, autopct = '%1.0f%%')\n",
    "plt.legend(labels)"
   ]
  },
  {
   "cell_type": "markdown",
   "id": "c83e4c79",
   "metadata": {},
   "source": [
    "### 73% of shootings in Brooklyn were carried out by a black person."
   ]
  },
  {
   "cell_type": "code",
   "execution_count": 24,
   "id": "d4b2d6c8",
   "metadata": {},
   "outputs": [
    {
     "name": "stdout",
     "output_type": "stream",
     "text": [
      "Probability of the next shooter being black: 70.10%\n"
     ]
    }
   ],
   "source": [
    "prob_shooter_black = 0.73\n",
    "\n",
    "# Number of experiments\n",
    "num_experiments = 1000\n",
    "\n",
    "# Simulate the experiments\n",
    "shooting_occurred_by_black = np.random.choice([1, 0], size=num_experiments, p=[prob_shooter_black, 1 - prob_shooter_black])\n",
    "\n",
    "# Calculate the proportion of crimes committed by cats\n",
    "proportion_black_murder = np.mean(shooting_occurred_by_black)\n",
    "\n",
    "print(f\"Probability of the next shooter being black: {proportion_black_murder:.2%}\")"
   ]
  },
  {
   "cell_type": "markdown",
   "id": "ccf681fd",
   "metadata": {},
   "source": [
    "### In an experiment carried out 1000 times, out of the 1000 hypothetical shootings 70.10% were committed by a black person."
   ]
  },
  {
   "cell_type": "code",
   "execution_count": 22,
   "id": "6c8b3fa5",
   "metadata": {},
   "outputs": [
    {
     "name": "stdout",
     "output_type": "stream",
     "text": [
      "The median age of shooters is 25-44\n"
     ]
    }
   ],
   "source": [
    "categories = ['<18', '18-24', '25-44', '45-64', '65+', 'UNKNOWN']\n",
    "\n",
    "brook_shooter.age = pd.Categorical(brook_shooter.age, categories, ordered = True)\n",
    "\n",
    "cat_age_shooter = brook_shooter.age.cat.codes\n",
    "median_age_shooter = np.median(cat_age_shooter)\n",
    "print('The median age of shooters is {}'.format(categories[int(median_age_shooter)]))"
   ]
  },
  {
   "cell_type": "markdown",
   "id": "64d0c21c",
   "metadata": {},
   "source": [
    "###  The median age of shooters falls in the age bracket of 25-44 years of age."
   ]
  },
  {
   "cell_type": "markdown",
   "id": "358754d1",
   "metadata": {},
   "source": [
    "# 6. Conclusion\n",
    "### In conclusion, it was possible to observe that as for the data available from 2006 in the borough of Brooklyn, the majority of shooting crimes were black people. The same applied to the perpetuators. This suggests that most of the shootings happen within the black portion of the population of Brooklyn. To have a complete population reference, the normalized population of Brooklyn is: White: 49.5% (non-Hispanic: 35.8%), African American: 35.8%, Hispanic or Latino of any race: 19.8%, Asian: 11.3%, Native American: 1.0%, Native Hawaiian and Pacific Islander: 0.1%."
   ]
  }
 ],
 "metadata": {
  "kernelspec": {
   "display_name": "Python 3 (ipykernel)",
   "language": "python",
   "name": "python3"
  },
  "language_info": {
   "codemirror_mode": {
    "name": "ipython",
    "version": 3
   },
   "file_extension": ".py",
   "mimetype": "text/x-python",
   "name": "python",
   "nbconvert_exporter": "python",
   "pygments_lexer": "ipython3",
   "version": "3.11.5"
  }
 },
 "nbformat": 4,
 "nbformat_minor": 5
}
